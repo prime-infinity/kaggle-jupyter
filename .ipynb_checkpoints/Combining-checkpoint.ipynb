{
 "cells": [
  {
   "cell_type": "markdown",
   "id": "5fff964e",
   "metadata": {},
   "source": [
    "# This is useful when we have data in different DataFrame or Series objects but having the same fields (columns). One example: the YouTube Videos dataset, which splits the data up based on country of origin (e.g. Canada and the UK, in this example). If we want to study multiple countries simultaneously, we can use concat() to smush them together:"
   ]
  },
  {
   "cell_type": "code",
   "execution_count": 2,
   "id": "7de9b0f8",
   "metadata": {},
   "outputs": [],
   "source": [
    "#canadian_youtube = pd.read_csv(\"../input/youtube-new/CAvideos.csv\")\n",
    "#british_youtube = pd.read_csv(\"../input/youtube-new/GBvideos.csv\")\n",
    "\n",
    "#pd.concat([canadian_youtube, british_youtube])"
   ]
  },
  {
   "cell_type": "markdown",
   "id": "a052c66e",
   "metadata": {},
   "source": [
    "# The middlemost combiner in terms of complexity is join(). join() lets you combine different DataFrame objects which have an index in common. For example, to pull down videos that happened to be trending on the same day in both Canada and the UK, we could do the following:"
   ]
  },
  {
   "cell_type": "code",
   "execution_count": 3,
   "id": "23cbc88c",
   "metadata": {},
   "outputs": [],
   "source": [
    "#left = canadian_youtube.set_index(['title', 'trending_date'])\n",
    "#right = british_youtube.set_index(['title', 'trending_date'])\n",
    "\n",
    "#left.join(right, lsuffix='_CAN', rsuffix='_UK')\n",
    "#The lsuffix and rsuffix parameters are necessary here because the data has\n",
    "#the same column names in both British and Canadian datasets. \n",
    "#If this wasn't true (because, say, we'd renamed them beforehand) we wouldn't need them."
   ]
  },
  {
   "cell_type": "code",
   "execution_count": null,
   "id": "0546ffbd",
   "metadata": {},
   "outputs": [],
   "source": []
  }
 ],
 "metadata": {
  "kernelspec": {
   "display_name": "Python 3 (ipykernel)",
   "language": "python",
   "name": "python3"
  },
  "language_info": {
   "codemirror_mode": {
    "name": "ipython",
    "version": 3
   },
   "file_extension": ".py",
   "mimetype": "text/x-python",
   "name": "python",
   "nbconvert_exporter": "python",
   "pygments_lexer": "ipython3",
   "version": "3.9.13"
  }
 },
 "nbformat": 4,
 "nbformat_minor": 5
}
