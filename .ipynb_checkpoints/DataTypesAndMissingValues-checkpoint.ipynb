{
 "cells": [
  {
   "cell_type": "markdown",
   "id": "ee497a12",
   "metadata": {},
   "source": [
    "# replacing missing values"
   ]
  },
  {
   "cell_type": "code",
   "execution_count": 1,
   "id": "07c83de5",
   "metadata": {},
   "outputs": [],
   "source": [
    "#reviews.region_2.fillna(\"Unknown\")"
   ]
  },
  {
   "cell_type": "code",
   "execution_count": 2,
   "id": "a8c39b90",
   "metadata": {},
   "outputs": [],
   "source": [
    "#Alternatively, we may have a non-null value that we would like to replace. \n",
    "#For example, suppose that since this dataset was published, reviewer Kerin O'Keefe has\n",
    "#changed her Twitter handle from @kerinokeefe to @kerino. One way to reflect this in the dataset\n",
    "#is using the replace() method:"
   ]
  },
  {
   "cell_type": "code",
   "execution_count": 3,
   "id": "9d1bcb07",
   "metadata": {},
   "outputs": [],
   "source": [
    "#reviews.taster_twitter_handle.replace(\"@kerinokeefe\", \"@kerino\")"
   ]
  },
  {
   "cell_type": "code",
   "execution_count": null,
   "id": "428e4279",
   "metadata": {},
   "outputs": [],
   "source": [
    "#find sum of missing values\n",
    "#pd.isnull(reviews.price).sum()\n",
    "\n",
    "#or\n",
    "#missing_price_reviews = reviews[reviews.price.isnull()]\n",
    "#n_missing_prices = len(missing_price_reviews)"
   ]
  }
 ],
 "metadata": {
  "kernelspec": {
   "display_name": "Python 3 (ipykernel)",
   "language": "python",
   "name": "python3"
  },
  "language_info": {
   "codemirror_mode": {
    "name": "ipython",
    "version": 3
   },
   "file_extension": ".py",
   "mimetype": "text/x-python",
   "name": "python",
   "nbconvert_exporter": "python",
   "pygments_lexer": "ipython3",
   "version": "3.9.13"
  }
 },
 "nbformat": 4,
 "nbformat_minor": 5
}
